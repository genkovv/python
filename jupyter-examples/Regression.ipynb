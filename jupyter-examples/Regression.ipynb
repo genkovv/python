{
 "cells": [
  {
   "cell_type": "code",
   "execution_count": 316,
   "metadata": {},
   "outputs": [],
   "source": [
    "import pandas as pd\n",
    "import seaborn as sns\n",
    "import statsmodels.formula.api as smf\n",
    "import statsmodels.api as sm\n",
    "import matplotlib.pyplot as plt\n",
    "import numpy as np\n",
    "from sklearn import datasets, linear_model\n",
    "from sklearn.metrics import mean_squared_error, r2_score\n",
    "from sklearn.model_selection import train_test_split\n",
    "import warnings\n",
    "warnings.filterwarnings('ignore') "
   ]
  },
  {
   "cell_type": "code",
   "execution_count": 317,
   "metadata": {},
   "outputs": [],
   "source": [
    "dataset = pd.read_csv(\"HappinessAlcoholConsumption.csv\")\n",
    "dataset = pd.DataFrame(dataset)"
   ]
  },
  {
   "cell_type": "code",
   "execution_count": 318,
   "metadata": {},
   "outputs": [
    {
     "data": {
      "text/html": [
       "<div>\n",
       "<style scoped>\n",
       "    .dataframe tbody tr th:only-of-type {\n",
       "        vertical-align: middle;\n",
       "    }\n",
       "\n",
       "    .dataframe tbody tr th {\n",
       "        vertical-align: top;\n",
       "    }\n",
       "\n",
       "    .dataframe thead th {\n",
       "        text-align: right;\n",
       "    }\n",
       "</style>\n",
       "<table border=\"1\" class=\"dataframe\">\n",
       "  <thead>\n",
       "    <tr style=\"text-align: right;\">\n",
       "      <th></th>\n",
       "      <th>Country</th>\n",
       "      <th>Region</th>\n",
       "      <th>Hemisphere</th>\n",
       "      <th>HappinessScore</th>\n",
       "      <th>HDI</th>\n",
       "      <th>GDP_PerCapita</th>\n",
       "      <th>Beer_PerCapita</th>\n",
       "      <th>Spirit_PerCapita</th>\n",
       "      <th>Wine_PerCapita</th>\n",
       "    </tr>\n",
       "  </thead>\n",
       "  <tbody>\n",
       "    <tr>\n",
       "      <th>0</th>\n",
       "      <td>Denmark</td>\n",
       "      <td>Western Europe</td>\n",
       "      <td>north</td>\n",
       "      <td>7.526</td>\n",
       "      <td>928</td>\n",
       "      <td>53.579</td>\n",
       "      <td>224</td>\n",
       "      <td>81</td>\n",
       "      <td>278</td>\n",
       "    </tr>\n",
       "    <tr>\n",
       "      <th>1</th>\n",
       "      <td>Switzerland</td>\n",
       "      <td>Western Europe</td>\n",
       "      <td>north</td>\n",
       "      <td>7.509</td>\n",
       "      <td>943</td>\n",
       "      <td>79.866</td>\n",
       "      <td>185</td>\n",
       "      <td>100</td>\n",
       "      <td>280</td>\n",
       "    </tr>\n",
       "    <tr>\n",
       "      <th>2</th>\n",
       "      <td>Iceland</td>\n",
       "      <td>Western Europe</td>\n",
       "      <td>north</td>\n",
       "      <td>7.501</td>\n",
       "      <td>933</td>\n",
       "      <td>60.530</td>\n",
       "      <td>233</td>\n",
       "      <td>61</td>\n",
       "      <td>78</td>\n",
       "    </tr>\n",
       "    <tr>\n",
       "      <th>3</th>\n",
       "      <td>Norway</td>\n",
       "      <td>Western Europe</td>\n",
       "      <td>north</td>\n",
       "      <td>7.498</td>\n",
       "      <td>951</td>\n",
       "      <td>70.890</td>\n",
       "      <td>169</td>\n",
       "      <td>71</td>\n",
       "      <td>129</td>\n",
       "    </tr>\n",
       "    <tr>\n",
       "      <th>4</th>\n",
       "      <td>Finland</td>\n",
       "      <td>Western Europe</td>\n",
       "      <td>north</td>\n",
       "      <td>7.413</td>\n",
       "      <td>918</td>\n",
       "      <td>43.433</td>\n",
       "      <td>263</td>\n",
       "      <td>133</td>\n",
       "      <td>97</td>\n",
       "    </tr>\n",
       "    <tr>\n",
       "      <th>5</th>\n",
       "      <td>Canada</td>\n",
       "      <td>North America</td>\n",
       "      <td>north</td>\n",
       "      <td>7.404</td>\n",
       "      <td>922</td>\n",
       "      <td>42.349</td>\n",
       "      <td>240</td>\n",
       "      <td>122</td>\n",
       "      <td>100</td>\n",
       "    </tr>\n",
       "  </tbody>\n",
       "</table>\n",
       "</div>"
      ],
      "text/plain": [
       "       Country          Region Hemisphere  HappinessScore  HDI  GDP_PerCapita  \\\n",
       "0      Denmark  Western Europe      north           7.526  928         53.579   \n",
       "1  Switzerland  Western Europe      north           7.509  943         79.866   \n",
       "2      Iceland  Western Europe      north           7.501  933         60.530   \n",
       "3       Norway  Western Europe      north           7.498  951         70.890   \n",
       "4      Finland  Western Europe      north           7.413  918         43.433   \n",
       "5       Canada   North America      north           7.404  922         42.349   \n",
       "\n",
       "   Beer_PerCapita  Spirit_PerCapita  Wine_PerCapita  \n",
       "0             224                81             278  \n",
       "1             185               100             280  \n",
       "2             233                61              78  \n",
       "3             169                71             129  \n",
       "4             263               133              97  \n",
       "5             240               122             100  "
      ]
     },
     "execution_count": 318,
     "metadata": {},
     "output_type": "execute_result"
    }
   ],
   "source": [
    "dataset.head(6)"
   ]
  },
  {
   "cell_type": "code",
   "execution_count": 319,
   "metadata": {},
   "outputs": [
    {
     "name": "stdout",
     "output_type": "stream",
     "text": [
      "<class 'pandas.core.frame.DataFrame'>\n",
      "RangeIndex: 122 entries, 0 to 121\n",
      "Data columns (total 9 columns):\n",
      "Country             122 non-null object\n",
      "Region              122 non-null object\n",
      "Hemisphere          122 non-null object\n",
      "HappinessScore      122 non-null float64\n",
      "HDI                 122 non-null int64\n",
      "GDP_PerCapita       122 non-null float64\n",
      "Beer_PerCapita      122 non-null int64\n",
      "Spirit_PerCapita    122 non-null int64\n",
      "Wine_PerCapita      122 non-null int64\n",
      "dtypes: float64(2), int64(4), object(3)\n",
      "memory usage: 8.7+ KB\n"
     ]
    }
   ],
   "source": [
    "dataset.info()"
   ]
  },
  {
   "cell_type": "code",
   "execution_count": 320,
   "metadata": {},
   "outputs": [
    {
     "data": {
      "text/plain": [
       "<matplotlib.axes._subplots.AxesSubplot at 0x242fd9422b0>"
      ]
     },
     "execution_count": 320,
     "metadata": {},
     "output_type": "execute_result"
    },
    {
     "data": {
      "image/png": "[encoded data removed]",
      "text/plain": [
       "<Figure size 432x288 with 1 Axes>"
      ]
     },
     "metadata": {
      "needs_background": "light"
     },
     "output_type": "display_data"
    }
   ],
   "source": [
    "sns.scatterplot(x=\"Beer_PerCapita\",y=\"HappinessScore\",data=dataset)"
   ]
  },
  {
   "cell_type": "code",
   "execution_count": 321,
   "metadata": {},
   "outputs": [
    {
     "data": {
      "text/plain": [
       "<matplotlib.axes._subplots.AxesSubplot at 0x242fda37da0>"
      ]
     },
     "execution_count": 321,
     "metadata": {},
     "output_type": "execute_result"
    },
    {
     "data": {
      "image/png": "[encoded data removed]",
      "text/plain": [
       "<Figure size 432x288 with 1 Axes>"
      ]
     },
     "metadata": {
      "needs_background": "light"
     },
     "output_type": "display_data"
    }
   ],
   "source": [
    "sns.regplot(x=\"Beer_PerCapita\",y=\"HappinessScore\",data=dataset)"
   ]
  },
  {
   "cell_type": "code",
   "execution_count": 322,
   "metadata": {},
   "outputs": [
    {
     "data": {
      "text/plain": [
       "<seaborn.axisgrid.FacetGrid at 0x242fdaa3be0>"
      ]
     },
     "execution_count": 322,
     "metadata": {},
     "output_type": "execute_result"
    },
    {
     "data": {
      "image/png": "[encoded data removed]",
      "text/plain": [
       "<Figure size 360x360 with 1 Axes>"
      ]
     },
     "metadata": {
      "needs_background": "light"
     },
     "output_type": "display_data"
    }
   ],
   "source": [
    "sns.lmplot(x=\"Beer_PerCapita\",y=\"HappinessScore\",data=dataset)"
   ]
  },
  {
   "cell_type": "code",
   "execution_count": 323,
   "metadata": {},
   "outputs": [
    {
     "data": {
      "text/plain": [
       "<seaborn.axisgrid.JointGrid at 0x242fdb027b8>"
      ]
     },
     "execution_count": 323,
     "metadata": {},
     "output_type": "execute_result"
    },
    {
     "data": {
      "image/png": "[encoded data removed]",
      "text/plain": [
       "<Figure size 432x432 with 3 Axes>"
      ]
     },
     "metadata": {
      "needs_background": "light"
     },
     "output_type": "display_data"
    }
   ],
   "source": [
    "sns.jointplot(x=\"Beer_PerCapita\",y=\"HappinessScore\",data=dataset, kind=\"reg\")"
   ]
  },
  {
   "cell_type": "code",
   "execution_count": 324,
   "metadata": {},
   "outputs": [
    {
     "data": {
      "text/plain": [
       "<matplotlib.axes._subplots.AxesSubplot at 0x242fdb02b70>"
      ]
     },
     "execution_count": 324,
     "metadata": {},
     "output_type": "execute_result"
    },
    {
     "data": {
      "image/png": "[encoded data removed]",
      "text/plain": [
       "<Figure size 432x288 with 1 Axes>"
      ]
     },
     "metadata": {
      "needs_background": "light"
     },
     "output_type": "display_data"
    }
   ],
   "source": [
    "sns.residplot(x=\"Beer_PerCapita\",y=\"HappinessScore\",data=dataset) "
   ]
  },
  {
   "cell_type": "code",
   "execution_count": 325,
   "metadata": {},
   "outputs": [
    {
     "data": {
      "text/html": [
       "<div>\n",
       "<style scoped>\n",
       "    .dataframe tbody tr th:only-of-type {\n",
       "        vertical-align: middle;\n",
       "    }\n",
       "\n",
       "    .dataframe tbody tr th {\n",
       "        vertical-align: top;\n",
       "    }\n",
       "\n",
       "    .dataframe thead th {\n",
       "        text-align: right;\n",
       "    }\n",
       "</style>\n",
       "<table border=\"1\" class=\"dataframe\">\n",
       "  <thead>\n",
       "    <tr style=\"text-align: right;\">\n",
       "      <th></th>\n",
       "      <th>HappinessScore</th>\n",
       "      <th>HDI</th>\n",
       "      <th>GDP_PerCapita</th>\n",
       "      <th>Beer_PerCapita</th>\n",
       "      <th>Spirit_PerCapita</th>\n",
       "      <th>Wine_PerCapita</th>\n",
       "    </tr>\n",
       "  </thead>\n",
       "  <tbody>\n",
       "    <tr>\n",
       "      <th>HappinessScore</th>\n",
       "      <td>1.000000</td>\n",
       "      <td>0.815163</td>\n",
       "      <td>-0.451425</td>\n",
       "      <td>0.493367</td>\n",
       "      <td>0.256399</td>\n",
       "      <td>0.450589</td>\n",
       "    </tr>\n",
       "    <tr>\n",
       "      <th>HDI</th>\n",
       "      <td>0.815163</td>\n",
       "      <td>1.000000</td>\n",
       "      <td>-0.573734</td>\n",
       "      <td>0.588394</td>\n",
       "      <td>0.393413</td>\n",
       "      <td>0.602561</td>\n",
       "    </tr>\n",
       "    <tr>\n",
       "      <th>GDP_PerCapita</th>\n",
       "      <td>-0.451425</td>\n",
       "      <td>-0.573734</td>\n",
       "      <td>1.000000</td>\n",
       "      <td>-0.369936</td>\n",
       "      <td>-0.260818</td>\n",
       "      <td>-0.200154</td>\n",
       "    </tr>\n",
       "    <tr>\n",
       "      <th>Beer_PerCapita</th>\n",
       "      <td>0.493367</td>\n",
       "      <td>0.588394</td>\n",
       "      <td>-0.369936</td>\n",
       "      <td>1.000000</td>\n",
       "      <td>0.364855</td>\n",
       "      <td>0.474274</td>\n",
       "    </tr>\n",
       "    <tr>\n",
       "      <th>Spirit_PerCapita</th>\n",
       "      <td>0.256399</td>\n",
       "      <td>0.393413</td>\n",
       "      <td>-0.260818</td>\n",
       "      <td>0.364855</td>\n",
       "      <td>1.000000</td>\n",
       "      <td>0.118718</td>\n",
       "    </tr>\n",
       "    <tr>\n",
       "      <th>Wine_PerCapita</th>\n",
       "      <td>0.450589</td>\n",
       "      <td>0.602561</td>\n",
       "      <td>-0.200154</td>\n",
       "      <td>0.474274</td>\n",
       "      <td>0.118718</td>\n",
       "      <td>1.000000</td>\n",
       "    </tr>\n",
       "  </tbody>\n",
       "</table>\n",
       "</div>"
      ],
      "text/plain": [
       "                  HappinessScore       HDI  GDP_PerCapita  Beer_PerCapita  \\\n",
       "HappinessScore          1.000000  0.815163      -0.451425        0.493367   \n",
       "HDI                     0.815163  1.000000      -0.573734        0.588394   \n",
       "GDP_PerCapita          -0.451425 -0.573734       1.000000       -0.369936   \n",
       "Beer_PerCapita          0.493367  0.588394      -0.369936        1.000000   \n",
       "Spirit_PerCapita        0.256399  0.393413      -0.260818        0.364855   \n",
       "Wine_PerCapita          0.450589  0.602561      -0.200154        0.474274   \n",
       "\n",
       "                  Spirit_PerCapita  Wine_PerCapita  \n",
       "HappinessScore            0.256399        0.450589  \n",
       "HDI                       0.393413        0.602561  \n",
       "GDP_PerCapita            -0.260818       -0.200154  \n",
       "Beer_PerCapita            0.364855        0.474274  \n",
       "Spirit_PerCapita          1.000000        0.118718  \n",
       "Wine_PerCapita            0.118718        1.000000  "
      ]
     },
     "execution_count": 325,
     "metadata": {},
     "output_type": "execute_result"
    }
   ],
   "source": [
    "dataset.corr()"
   ]
  },
  {
   "cell_type": "code",
   "execution_count": 326,
   "metadata": {},
   "outputs": [
    {
     "data": {
      "text/plain": [
       "0.49336720477895346"
      ]
     },
     "execution_count": 326,
     "metadata": {},
     "output_type": "execute_result"
    }
   ],
   "source": [
    "dataset[\"Beer_PerCapita\"].corr(dataset[\"HappinessScore\"])"
   ]
  },
  {
   "cell_type": "code",
   "execution_count": 327,
   "metadata": {},
   "outputs": [
    {
     "data": {
      "text/plain": [
       "0.4933672047789535"
      ]
     },
     "execution_count": 327,
     "metadata": {},
     "output_type": "execute_result"
    }
   ],
   "source": [
    "dataset[\"HappinessScore\"].corr(dataset[\"Beer_PerCapita\"])"
   ]
  },
  {
   "cell_type": "markdown",
   "metadata": {},
   "source": [
    "#### Split the data into training and test"
   ]
  },
  {
   "cell_type": "code",
   "execution_count": 328,
   "metadata": {},
   "outputs": [],
   "source": [
    "X = dataset[[\"Beer_PerCapita\"]]\n",
    "y= dataset[[\"HappinessScore\"]]\n",
    "X_train, X_test, y_train, y_test= train_test_split(X, y,\n",
    "                                                  test_size=0.25,\n",
    "                                                  random_state = 123)"
   ]
  },
  {
   "cell_type": "code",
   "execution_count": 329,
   "metadata": {},
   "outputs": [
    {
     "name": "stdout",
     "output_type": "stream",
     "text": [
      "(91, 1) (91, 1)\n",
      "(31, 1) (31, 1)\n"
     ]
    }
   ],
   "source": [
    "print(X_train.shape,y_train.shape)\n",
    "print(X_test.shape,y_test.shape)"
   ]
  },
  {
   "cell_type": "code",
   "execution_count": 330,
   "metadata": {},
   "outputs": [],
   "source": [
    "Train = pd.concat([X_train,y_train],axis=1)"
   ]
  },
  {
   "cell_type": "code",
   "execution_count": 331,
   "metadata": {},
   "outputs": [
    {
     "data": {
      "text/html": [
       "<div>\n",
       "<style scoped>\n",
       "    .dataframe tbody tr th:only-of-type {\n",
       "        vertical-align: middle;\n",
       "    }\n",
       "\n",
       "    .dataframe tbody tr th {\n",
       "        vertical-align: top;\n",
       "    }\n",
       "\n",
       "    .dataframe thead th {\n",
       "        text-align: right;\n",
       "    }\n",
       "</style>\n",
       "<table border=\"1\" class=\"dataframe\">\n",
       "  <thead>\n",
       "    <tr style=\"text-align: right;\">\n",
       "      <th></th>\n",
       "      <th>Beer_PerCapita</th>\n",
       "      <th>HappinessScore</th>\n",
       "    </tr>\n",
       "  </thead>\n",
       "  <tbody>\n",
       "    <tr>\n",
       "      <th>65</th>\n",
       "      <td>230</td>\n",
       "      <td>5.488</td>\n",
       "    </tr>\n",
       "    <tr>\n",
       "      <th>23</th>\n",
       "      <td>285</td>\n",
       "      <td>6.701</td>\n",
       "    </tr>\n",
       "    <tr>\n",
       "      <th>9</th>\n",
       "      <td>152</td>\n",
       "      <td>7.291</td>\n",
       "    </tr>\n",
       "    <tr>\n",
       "      <th>91</th>\n",
       "      <td>147</td>\n",
       "      <td>4.513</td>\n",
       "    </tr>\n",
       "    <tr>\n",
       "      <th>79</th>\n",
       "      <td>194</td>\n",
       "      <td>5.123</td>\n",
       "    </tr>\n",
       "  </tbody>\n",
       "</table>\n",
       "</div>"
      ],
      "text/plain": [
       "    Beer_PerCapita  HappinessScore\n",
       "65             230           5.488\n",
       "23             285           6.701\n",
       "9              152           7.291\n",
       "91             147           4.513\n",
       "79             194           5.123"
      ]
     },
     "execution_count": 331,
     "metadata": {},
     "output_type": "execute_result"
    }
   ],
   "source": [
    "Train.head()"
   ]
  },
  {
   "cell_type": "code",
   "execution_count": 332,
   "metadata": {},
   "outputs": [
    {
     "data": {
      "image/png": "[encoded data removed]",
      "text/plain": [
       "<Figure size 432x288 with 1 Axes>"
      ]
     },
     "metadata": {
      "needs_background": "light"
     },
     "output_type": "display_data"
    }
   ],
   "source": [
    "r=sns.regplot(x=\"Beer_PerCapita\",y=\"HappinessScore\",data=Train)"
   ]
  },
  {
   "cell_type": "code",
   "execution_count": 333,
   "metadata": {},
   "outputs": [],
   "source": [
    "regression_model=linear_model.LinearRegression()\n",
    "regression_model=regression_model.fit(X_train,y_train)"
   ]
  },
  {
   "cell_type": "code",
   "execution_count": 334,
   "metadata": {},
   "outputs": [
    {
     "name": "stdout",
     "output_type": "stream",
     "text": [
      "The R-squared is: 0.17086397872744372\n"
     ]
    }
   ],
   "source": [
    "print(\"The R-squared is:\", regression_model.score(X_train,y_train))"
   ]
  },
  {
   "cell_type": "code",
   "execution_count": 335,
   "metadata": {},
   "outputs": [
    {
     "name": "stdout",
     "output_type": "stream",
     "text": [
      "Coefficients: [[0.00448793]]\n"
     ]
    }
   ],
   "source": [
    "print(\"Coefficients:\", regression_model.coef_)"
   ]
  },
  {
   "cell_type": "code",
   "execution_count": 336,
   "metadata": {},
   "outputs": [
    {
     "name": "stdout",
     "output_type": "stream",
     "text": [
      "Intercept: [4.83636699]\n"
     ]
    }
   ],
   "source": [
    "print(\"Intercept:\",regression_model.intercept_)"
   ]
  },
  {
   "cell_type": "code",
   "execution_count": 337,
   "metadata": {},
   "outputs": [
    {
     "data": {
      "text/plain": [
       "<bound method RegressorMixin.score of LinearRegression(copy_X=True, fit_intercept=True, n_jobs=None,\n",
       "         normalize=False)>"
      ]
     },
     "execution_count": 337,
     "metadata": {},
     "output_type": "execute_result"
    }
   ],
   "source": [
    "regression_model.score"
   ]
  },
  {
   "cell_type": "markdown",
   "metadata": {},
   "source": [
    "##### Evaluate the accuracey of the model"
   ]
  },
  {
   "cell_type": "code",
   "execution_count": 338,
   "metadata": {},
   "outputs": [],
   "source": [
    "y_pred = regression_model.predict(X_test)\n",
    "y_pred=pd.DataFrame(y_pred)\n"
   ]
  },
  {
   "cell_type": "code",
   "execution_count": 339,
   "metadata": {},
   "outputs": [],
   "source": [
    "y_test=y_test[\"HappinessScore\"].reset_index()\n",
    "y_obs_pred=pd.concat([y_test[\"HappinessScore\"],y_pred],axis=1)\n",
    "y_obs_pred.columns = [\"y_test\",\"y_pred\"]"
   ]
  },
  {
   "cell_type": "code",
   "execution_count": 340,
   "metadata": {},
   "outputs": [
    {
     "data": {
      "image/png": "[encoded data removed]",
      "text/plain": [
       "<Figure size 432x288 with 1 Axes>"
      ]
     },
     "metadata": {
      "needs_background": "light"
     },
     "output_type": "display_data"
    }
   ],
   "source": [
    "y_obs_pred[\"diff\"]=y_obs_pred[\"y_test\"]-y_obs_pred[\"y_pred\"]\n",
    "r=sns.regplot(x=\"y_test\",y=\"y_pred\",data=y_obs_pred)\n"
   ]
  },
  {
   "cell_type": "markdown",
   "metadata": {},
   "source": [
    "Measuring the root mean squared error (RMSE)"
   ]
  },
  {
   "cell_type": "code",
   "execution_count": 341,
   "metadata": {},
   "outputs": [
    {
     "data": {
      "text/plain": [
       "0.8934510872196844"
      ]
     },
     "execution_count": 341,
     "metadata": {},
     "output_type": "execute_result"
    }
   ],
   "source": [
    "diff=y_obs_pred[\"y_pred\"]-y_obs_pred[\"y_test\"]\n",
    "diff_sq=diff**2\n",
    "mean_diff_sq=diff_sq.mean()\n",
    "RMSE=np.sqrt(mean_diff_sq)\n",
    "RMSE"
   ]
  },
  {
   "cell_type": "code",
   "execution_count": 343,
   "metadata": {},
   "outputs": [],
   "source": [
    "regression_model = smf.ols('HappinessScore ~ Beer_PerCapita', data= Train).fit()"
   ]
  },
  {
   "cell_type": "code",
   "execution_count": 344,
   "metadata": {},
   "outputs": [
    {
     "data": {
      "text/html": [
       "<table class=\"simpletable\">\n",
       "<caption>OLS Regression Results</caption>\n",
       "<tr>\n",
       "  <th>Dep. Variable:</th>     <td>HappinessScore</td>  <th>  R-squared:         </th> <td>   0.171</td>\n",
       "</tr>\n",
       "<tr>\n",
       "  <th>Model:</th>                   <td>OLS</td>       <th>  Adj. R-squared:    </th> <td>   0.162</td>\n",
       "</tr>\n",
       "<tr>\n",
       "  <th>Method:</th>             <td>Least Squares</td>  <th>  F-statistic:       </th> <td>   18.34</td>\n",
       "</tr>\n",
       "<tr>\n",
       "  <th>Date:</th>             <td>Sun, 31 Mar 2019</td> <th>  Prob (F-statistic):</th> <td>4.65e-05</td>\n",
       "</tr>\n",
       "<tr>\n",
       "  <th>Time:</th>                 <td>20:14:58</td>     <th>  Log-Likelihood:    </th> <td> -132.40</td>\n",
       "</tr>\n",
       "<tr>\n",
       "  <th>No. Observations:</th>      <td>    91</td>      <th>  AIC:               </th> <td>   268.8</td>\n",
       "</tr>\n",
       "<tr>\n",
       "  <th>Df Residuals:</th>          <td>    89</td>      <th>  BIC:               </th> <td>   273.8</td>\n",
       "</tr>\n",
       "<tr>\n",
       "  <th>Df Model:</th>              <td>     1</td>      <th>                     </th>     <td> </td>   \n",
       "</tr>\n",
       "<tr>\n",
       "  <th>Covariance Type:</th>      <td>nonrobust</td>    <th>                     </th>     <td> </td>   \n",
       "</tr>\n",
       "</table>\n",
       "<table class=\"simpletable\">\n",
       "<tr>\n",
       "         <td></td>           <th>coef</th>     <th>std err</th>      <th>t</th>      <th>P>|t|</th>  <th>[0.025</th>    <th>0.975]</th>  \n",
       "</tr>\n",
       "<tr>\n",
       "  <th>Intercept</th>      <td>    4.8364</td> <td>    0.180</td> <td>   26.868</td> <td> 0.000</td> <td>    4.479</td> <td>    5.194</td>\n",
       "</tr>\n",
       "<tr>\n",
       "  <th>Beer_PerCapita</th> <td>    0.0045</td> <td>    0.001</td> <td>    4.283</td> <td> 0.000</td> <td>    0.002</td> <td>    0.007</td>\n",
       "</tr>\n",
       "</table>\n",
       "<table class=\"simpletable\">\n",
       "<tr>\n",
       "  <th>Omnibus:</th>       <td> 4.891</td> <th>  Durbin-Watson:     </th> <td>   1.850</td>\n",
       "</tr>\n",
       "<tr>\n",
       "  <th>Prob(Omnibus):</th> <td> 0.087</td> <th>  Jarque-Bera (JB):  </th> <td>   2.365</td>\n",
       "</tr>\n",
       "<tr>\n",
       "  <th>Skew:</th>          <td>-0.026</td> <th>  Prob(JB):          </th> <td>   0.306</td>\n",
       "</tr>\n",
       "<tr>\n",
       "  <th>Kurtosis:</th>      <td> 2.212</td> <th>  Cond. No.          </th> <td>    281.</td>\n",
       "</tr>\n",
       "</table><br/><br/>Warnings:<br/>[1] Standard Errors assume that the covariance matrix of the errors is correctly specified."
      ],
      "text/plain": [
       "<class 'statsmodels.iolib.summary.Summary'>\n",
       "\"\"\"\n",
       "                            OLS Regression Results                            \n",
       "==============================================================================\n",
       "Dep. Variable:         HappinessScore   R-squared:                       0.171\n",
       "Model:                            OLS   Adj. R-squared:                  0.162\n",
       "Method:                 Least Squares   F-statistic:                     18.34\n",
       "Date:                Sun, 31 Mar 2019   Prob (F-statistic):           4.65e-05\n",
       "Time:                        20:14:58   Log-Likelihood:                -132.40\n",
       "No. Observations:                  91   AIC:                             268.8\n",
       "Df Residuals:                      89   BIC:                             273.8\n",
       "Df Model:                           1                                         \n",
       "Covariance Type:            nonrobust                                         \n",
       "==================================================================================\n",
       "                     coef    std err          t      P>|t|      [0.025      0.975]\n",
       "----------------------------------------------------------------------------------\n",
       "Intercept          4.8364      0.180     26.868      0.000       4.479       5.194\n",
       "Beer_PerCapita     0.0045      0.001      4.283      0.000       0.002       0.007\n",
       "==============================================================================\n",
       "Omnibus:                        4.891   Durbin-Watson:                   1.850\n",
       "Prob(Omnibus):                  0.087   Jarque-Bera (JB):                2.365\n",
       "Skew:                          -0.026   Prob(JB):                        0.306\n",
       "Kurtosis:                       2.212   Cond. No.                         281.\n",
       "==============================================================================\n",
       "\n",
       "Warnings:\n",
       "[1] Standard Errors assume that the covariance matrix of the errors is correctly specified.\n",
       "\"\"\""
      ]
     },
     "execution_count": 344,
     "metadata": {},
     "output_type": "execute_result"
    }
   ],
   "source": [
    "regression_model.summary()"
   ]
  },
  {
   "cell_type": "code",
   "execution_count": null,
   "metadata": {},
   "outputs": [],
   "source": []
  }
 ],
 "metadata": {
  "kernelspec": {
   "display_name": "Python 3",
   "language": "python",
   "name": "python3"
  },
  "language_info": {
   "codemirror_mode": {
    "name": "ipython",
    "version": 3
   },
   "file_extension": ".py",
   "mimetype": "text/x-python",
   "name": "python",
   "nbconvert_exporter": "python",
   "pygments_lexer": "ipython3",
   "version": "3.7.1"
  }
 },
 "nbformat": 4,
 "nbformat_minor": 2
}
